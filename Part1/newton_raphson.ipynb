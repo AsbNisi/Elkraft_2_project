{
 "cells": [
  {
   "cell_type": "code",
   "execution_count": 1,
   "metadata": {},
   "outputs": [],
   "source": [
    "import numpy as np\n",
    "import pandas as pd\n",
    "import os\n",
    "import cmath"
   ]
  },
  {
   "cell_type": "code",
   "execution_count": 4,
   "metadata": {},
   "outputs": [
    {
     "name": "stdout",
     "output_type": "stream",
     "text": [
      "[1 0 1 0 0]\n",
      "[0 0 0 0 0]\n",
      "[ 1.  -0.6  0.  -0.6 -0.5]\n",
      "[ 0.  -0.3  0.  -0.2 -0.4]\n"
     ]
    }
   ],
   "source": [
    "# Reading bus data into pandas \n",
    "\n",
    "def buses(file):\n",
    "    df_buses = pd.read_csv(file, sep=\";\")\n",
    "    V = df_buses.V.to_numpy()\n",
    "    delta = df_buses.Angle.to_numpy()\n",
    "    P = df_buses.P_gen.to_numpy()\n",
    "    Q = df_buses.Q_gen.to_numpy()\n",
    "    return V,delta,P,Q\n",
    "\n",
    "\n",
    "V,delta,P,Q = buses('Busdata.csv')\n",
    "\n",
    "print(V)\n",
    "print(delta)\n",
    "print(P)\n",
    "print(Q)"
   ]
  },
  {
   "cell_type": "code",
   "execution_count": 5,
   "metadata": {},
   "outputs": [],
   "source": [
    "# Creating Y-bus matrix\n",
    "\n",
    "def Ybus(file, shape):\n",
    "    df_impedances = pd.read_csv(file, sep=\";\")\n",
    "    print(df_impedances.head())\n",
    "    Z_values = np.zeros((shape,shape), dtype=complex)\n",
    "    Y_bus = np.zeros((shape,shape), dtype=complex)\n",
    "\n",
    "    for x in range(df_impedances.shape[0]):\n",
    "        from_line = df_impedances['From_line'][x]\n",
    "        to_line = df_impedances['To_line'][x]\n",
    "        Z_values[from_line-1][to_line-1] = df_impedances['R'][x] + df_impedances['X'][x]*1j\n",
    "\n",
    "    \n",
    "    for i in range(shape):\n",
    "        for j in range(shape):\n",
    "            if(Z_values[i][j] != 0. +0.j):\n",
    "                Y_bus[i][j] = 1/Z_values[i][j]\n",
    "            else:\n",
    "                Y_bus[i][j] = Z_values[i][j]\n",
    "\n",
    "    for x in range(df_impedances.shape[0]):\n",
    "        from_line = df_impedances['From_line'][x]\n",
    "        to_line = df_impedances['To_line'][x]\n",
    "        \n",
    "        Y_bus[from_line-1][from_line-1] += - 1/(df_impedances['R'][x] + df_impedances['X'][x]*1j)\n",
    "        Y_bus[from_line-1][from_line-1] += 1/(2*(df_impedances['Full_line_B'][x]*1j))\n",
    "        Y_bus[to_line-1][to_line-1] += 1/(2*(df_impedances['Full_line_B'][x]*1j))\n",
    "\n",
    "    return Y_bus"
   ]
  },
  {
   "cell_type": "code",
   "execution_count": 8,
   "metadata": {},
   "outputs": [
    {
     "name": "stdout",
     "output_type": "stream",
     "text": [
      "[-1.26428027  0.          0.          0.          0.        ]\n",
      "[0. 0. 0. 0. 0.]\n"
     ]
    },
    {
     "name": "stderr",
     "output_type": "stream",
     "text": [
      "C:\\Users\\asbjo\\AppData\\Local\\Temp\\ipykernel_11348\\888496469.py:8: ComplexWarning: Casting complex values to real discards the imaginary part\n",
      "  P_Calc[i] = P_Calc[i] + (V[i]*V[j]*(np.real(YBus)[i][j]*cmath.cos(delta[i]-delta[j])\n",
      "C:\\Users\\asbjo\\AppData\\Local\\Temp\\ipykernel_11348\\888496469.py:19: ComplexWarning: Casting complex values to real discards the imaginary part\n",
      "  Q_Calc[i] += (V[i]*V[j]*(np.real(YBus)[i][j]*cmath.sin(delta[i]-delta[j])\n"
     ]
    }
   ],
   "source": [
    "def P_Calc(V, YBus, BusNum, delta, P):\n",
    "    P_Calc = np.zeros(BusNum, dtype=float)\n",
    "    for i in range (BusNum):\n",
    "        if P[i] == 0:\n",
    "            P_Calc[i] == 0\n",
    "        else:\n",
    "            for j in range (BusNum):\n",
    "                P_Calc[i] = P_Calc[i] + (V[i]*V[j]*(np.real(YBus)[i][j]*cmath.cos(delta[i]-delta[j])\n",
    "                            +np.imag(YBus)[i][j]*cmath.sin(delta[i]-delta[j]))) \n",
    "    return P_Calc\n",
    "\n",
    "def Q_Calc(V, YBus, BusNum, delta, Q):\n",
    "    Q_Calc = np.zeros(BusNum, dtype=float)\n",
    "    for i in range (BusNum):\n",
    "        if Q[i] == 0:\n",
    "            Q_Calc[i] == 0\n",
    "        else:\n",
    "           for j in range (BusNum):\n",
    "                Q_Calc[i] += (V[i]*V[j]*(np.real(YBus)[i][j]*cmath.sin(delta[i]-delta[j])\n",
    "                                         -np.imag(YBus)[i][j]*cmath.cos(delta[i]-delta[j]))) \n",
    "    return Q_Calc\n",
    "\n",
    "\n",
    "\n",
    "P_calc = (P_Calc(V, Ybus, 5, delta, P))\n",
    "Q_calc = (Q_Calc(V, Ybus, 5, delta, Q))\n",
    "\n",
    "print(P_calc)\n",
    "print(Q_calc)"
   ]
  },
  {
   "cell_type": "code",
   "execution_count": 7,
   "metadata": {},
   "outputs": [
    {
     "name": "stdout",
     "output_type": "stream",
     "text": [
      "   From_line  To_line      R      X  Full_line_B\n",
      "0          1        2  0.050  0.250       0.0500\n",
      "1          2        3  0.025  0.125       0.0250\n",
      "2          1        4  0.020  0.200       0.0333\n",
      "3          2        4  0.020  0.200       0.0333\n",
      "4          4        5  0.010  0.100       0.0200\n",
      "[[-1.26428027-16.21836612j  0.76923077 -3.84615385j\n",
      "   0.         +0.j          0.4950495  -4.95049505j\n",
      "   0.         +0.j        ]\n",
      " [ 0.         +0.j         -2.03351104-32.37221227j\n",
      "   1.53846154 -7.69230769j  0.4950495  -4.95049505j\n",
      "   0.         +0.j        ]\n",
      " [ 0.         +0.j          0.         +0.j\n",
      "   0.        -20.j          0.         +0.j\n",
      "   0.         +0.j        ]\n",
      " [ 0.         +0.j          0.         +0.j\n",
      "   0.         +0.j         -0.99009901-45.12903993j\n",
      "   0.99009901 -9.9009901j ]\n",
      " [ 0.         +0.j          0.         +0.j\n",
      "   0.         +0.j          0.         +0.j\n",
      "   0.        -25.j        ]]\n"
     ]
    }
   ],
   "source": [
    "Ybus = Ybus('impedances.csv', 5)\n",
    "\n",
    "print(Ybus)"
   ]
  }
 ],
 "metadata": {
  "kernelspec": {
   "display_name": "Python 3.8.13 ('ADA')",
   "language": "python",
   "name": "python3"
  },
  "language_info": {
   "codemirror_mode": {
    "name": "ipython",
    "version": 3
   },
   "file_extension": ".py",
   "mimetype": "text/x-python",
   "name": "python",
   "nbconvert_exporter": "python",
   "pygments_lexer": "ipython3",
   "version": "3.8.13"
  },
  "orig_nbformat": 4,
  "vscode": {
   "interpreter": {
    "hash": "5c42c202f02bd88f630c08504a2a70f76c65184e2d4d0e2e5410e2500b78b318"
   }
  }
 },
 "nbformat": 4,
 "nbformat_minor": 2
}
