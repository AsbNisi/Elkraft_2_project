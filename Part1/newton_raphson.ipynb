{
 "cells": [
  {
   "cell_type": "code",
   "execution_count": 182,
   "metadata": {},
   "outputs": [],
   "source": [
    "import numpy as np\n",
    "import pandas as pd\n",
    "import os\n",
    "import cmath"
   ]
  },
  {
   "cell_type": "code",
   "execution_count": 183,
   "metadata": {},
   "outputs": [
    {
     "name": "stdout",
     "output_type": "stream",
     "text": [
      "[ 1. nan  1. nan nan]\n",
      "[nan nan  0. nan nan]\n",
      "[ 1.  -0.6  nan -0.6 -0.5]\n",
      "[ nan -0.3  nan -0.2 -0.4]\n",
      "[1 2 0 2 2]\n"
     ]
    }
   ],
   "source": [
    "# Reading bus data into pandas \n",
    "\n",
    "def buses(file):\n",
    "    df_buses = pd.read_csv(file, sep=\";\")\n",
    "    V = df_buses.V.to_numpy()\n",
    "    delta = df_buses.Angle.to_numpy()\n",
    "    P = df_buses.P_gen.to_numpy()\n",
    "    Q = df_buses.Q_gen.to_numpy()\n",
    "    bus_type = df_buses.BusType.to_numpy()\n",
    "    return V,delta,P,Q, bus_type\n",
    "\n",
    "\n",
    "V,delta,P,Q, bus_type = buses('Busdata.csv')\n",
    "\n",
    "print(V)\n",
    "print(delta)\n",
    "print(P)\n",
    "print(Q)\n",
    "print(bus_type)"
   ]
  },
  {
   "cell_type": "code",
   "execution_count": 184,
   "metadata": {},
   "outputs": [],
   "source": [
    "# Creating Y-bus matrix\n",
    "\n",
    "def Ybus(file, shape):\n",
    "    df_impedances = pd.read_csv(file, sep=\";\")\n",
    "    print(df_impedances.head())\n",
    "    Z_values = np.zeros((shape,shape), dtype=complex)\n",
    "    Y_bus = np.zeros((shape,shape), dtype=complex)\n",
    "\n",
    "    for x in range(df_impedances.shape[0]):\n",
    "        from_line = df_impedances['From_line'][x]\n",
    "        to_line = df_impedances['To_line'][x]\n",
    "        Z_values[from_line-1][to_line-1] = df_impedances['R'][x] + df_impedances['X'][x]*1j\n",
    "        Z_values[to_line-1][from_line-1] = df_impedances['R'][x] + df_impedances['X'][x]*1j\n",
    "\n",
    "    # Adding off diagonal elements\n",
    "    for i in range(shape):\n",
    "        for j in range(shape):\n",
    "            if(Z_values[i][j] != 0. +0.j):\n",
    "                if(i != j):\n",
    "                    Y_bus[i][j] = - 1/Z_values[i][j]\n",
    "            else:\n",
    "                if(i != j):\n",
    "                    Y_bus[i][j] = Z_values[i][j]\n",
    "\n",
    "    # Adding diagonal elements\n",
    "    for x in range(df_impedances.shape[0]):\n",
    "        from_line = df_impedances['From_line'][x]\n",
    "        to_line = df_impedances['To_line'][x]\n",
    "        \n",
    "        Y_bus[from_line-1][from_line-1] += 1/(df_impedances['R'][x] + df_impedances['X'][x]*1j)\n",
    "        Y_bus[from_line-1][from_line-1] += 1/2*(df_impedances['Full_line_B'][x]*1j)\n",
    "        \n",
    "        Y_bus[to_line-1][to_line-1] += 1/(df_impedances['R'][x] + df_impedances['X'][x]*1j)\n",
    "        Y_bus[to_line-1][to_line-1] += 1/2*(df_impedances['Full_line_B'][x]*1j)\n",
    "\n",
    "    return Y_bus"
   ]
  },
  {
   "cell_type": "code",
   "execution_count": 185,
   "metadata": {},
   "outputs": [
    {
     "name": "stdout",
     "output_type": "stream",
     "text": [
      "   From_line  To_line      R      X  Full_line_B\n",
      "0          1        2  0.050  0.250       0.0500\n",
      "1          2        3  0.025  0.125       0.1000\n",
      "2          1        4  0.020  0.200       0.0333\n",
      "3          2        4  0.020  0.200       0.0333\n",
      "4          4        5  0.010  0.100       0.0200\n",
      "[[ 1.26428027 -8.7549989j  -0.76923077 +3.84615385j\n",
      "   0.         +0.j         -0.4950495  +4.95049505j\n",
      "   0.         +0.j        ]\n",
      " [-0.76923077 +3.84615385j  2.80274181-16.39730659j\n",
      "  -1.53846154 +7.69230769j -0.4950495  +4.95049505j\n",
      "   0.         +0.j        ]\n",
      " [ 0.         +0.j         -1.53846154 +7.69230769j\n",
      "   1.53846154 -7.64230769j  0.         +0.j\n",
      "   0.         +0.j        ]\n",
      " [-0.4950495  +4.95049505j -0.4950495  +4.95049505j\n",
      "   0.         +0.j          1.98019802-19.7586802j\n",
      "  -0.99009901 +9.9009901j ]\n",
      " [ 0.         +0.j          0.         +0.j\n",
      "   0.         +0.j         -0.99009901 +9.9009901j\n",
      "   0.99009901 -9.8909901j ]]\n"
     ]
    }
   ],
   "source": [
    "Ybus = Ybus('impedances.csv', 5)\n",
    "\n",
    "print(Ybus)"
   ]
  },
  {
   "cell_type": "code",
   "execution_count": 186,
   "metadata": {},
   "outputs": [
    {
     "name": "stdout",
     "output_type": "stream",
     "text": [
      "[5.55111512e-17 5.55111512e-17 0.00000000e+00 0.00000000e+00\n",
      " 0.00000000e+00]\n",
      "[ 0.      -0.09165  0.      -0.0433  -0.01   ]\n"
     ]
    },
    {
     "name": "stderr",
     "output_type": "stream",
     "text": [
      "C:\\Users\\asbjo\\AppData\\Local\\Temp\\ipykernel_11348\\1065429882.py:8: ComplexWarning: Casting complex values to real discards the imaginary part\n",
      "  P_Calc[i] += (V[i]*V[j]*(np.real(YBus)[i][j]*cmath.cos(delta[i]-delta[j])\n",
      "C:\\Users\\asbjo\\AppData\\Local\\Temp\\ipykernel_11348\\1065429882.py:19: ComplexWarning: Casting complex values to real discards the imaginary part\n",
      "  Q_Calc[i] += (V[i]*V[j]*(np.real(YBus)[i][j]*cmath.sin(delta[i]-delta[j])\n"
     ]
    }
   ],
   "source": [
    "def P_Calc(V, YBus, BusNum, delta, P):\n",
    "    P_Calc = np.zeros(BusNum, dtype=float)\n",
    "    for i in range (BusNum):\n",
    "        if np.isnan(P[i]):\n",
    "            P_Calc[i] == 0\n",
    "        else:\n",
    "            for j in range (BusNum):\n",
    "                P_Calc[i] += (V[i]*V[j]*(np.real(YBus)[i][j]*cmath.cos(delta[i]-delta[j])\n",
    "                            +np.imag(YBus)[i][j]*cmath.sin(delta[i]-delta[j]))) \n",
    "    return P_Calc\n",
    "\n",
    "def Q_Calc(V, YBus, BusNum, delta, Q):\n",
    "    Q_Calc = np.zeros(BusNum, dtype=float)\n",
    "    for i in range (BusNum):\n",
    "        if np.isnan(Q[i]):\n",
    "            Q_Calc[i] == 0\n",
    "        else:\n",
    "           for j in range (BusNum):\n",
    "                Q_Calc[i] += (V[i]*V[j]*(np.real(YBus)[i][j]*cmath.sin(delta[i]-delta[j])\n",
    "                                         -np.imag(YBus)[i][j]*cmath.cos(delta[i]-delta[j]))) \n",
    "    return Q_Calc\n",
    "\n",
    "\n",
    "\n",
    "#Initial guesses\n",
    "num_buses = 5\n",
    "for x in range(num_buses):\n",
    "    if(np.isnan(V[x])):\n",
    "        V[x] = 1\n",
    "    if(np.isnan(delta[x])):\n",
    "        delta[x] = 0\n",
    "\n",
    "P_calc = (P_Calc(V, Ybus, num_buses, delta, P))\n",
    "Q_calc = (Q_Calc(V, Ybus, num_buses, delta, Q))\n",
    "\n",
    "print(P_calc)\n",
    "print(Q_calc)"
   ]
  },
  {
   "cell_type": "code",
   "execution_count": 201,
   "metadata": {},
   "outputs": [
    {
     "name": "stdout",
     "output_type": "stream",
     "text": [
      "T\n"
     ]
    }
   ],
   "source": [
    "#Jacobian\n",
    "V,delta,P,Q, bus_type = buses('Busdata.csv')\n",
    "\n",
    "class PQ:\n",
    "    def __init__(self, Bus_type, Bus_num, vec_pos):\n",
    "        self.Bus_type = Bus_type\n",
    "        self.Bus_num = Bus_num\n",
    "        self.vec_pos = vec_pos\n",
    "\n",
    "class VT:\n",
    "    def __init__(self, Bus_type, Bus_num, vec_pos):\n",
    "        self.Bus_type = Bus_type\n",
    "        self.Bus_num = Bus_num\n",
    "        self.vec_pos = vec_pos\n",
    "\n",
    "\n",
    "def jacobian(P,Q, V, delta):\n",
    "    #Endre hardkode 7 her\n",
    "    PQ_vec =  np.zeros(7, dtype=float)\n",
    "    PQ_jacobi = []\n",
    "    VT_jacobi = []\n",
    "\n",
    "\n",
    "    numP = 0\n",
    "    numQ = 0\n",
    "    rowP = 0\n",
    "    rowQ = 0\n",
    "    for x in range(len(P)):\n",
    "        \n",
    "        if (np.isnan(P[x]) == False):\n",
    "            PQ_vec[numP] = P[x]\n",
    "            businfo = PQ(\"P\", rowP, numP)\n",
    "            PQ_jacobi.append(businfo)\n",
    "            numP += 1\n",
    "        rowP += 1\n",
    "    for x in range(len(Q)):\n",
    "        if (np.isnan(Q[x]) == False):\n",
    "            PQ_vec[numP + numQ] = Q[x]\n",
    "            businfo = PQ(\"Q\", rowQ, numQ)\n",
    "            PQ_jacobi.append(businfo)\n",
    "            numQ += 1\n",
    "        rowQ += 1\n",
    "\n",
    "    numV = 0\n",
    "    numT = 0\n",
    "    rowV = 0\n",
    "    rowT = 0\n",
    "    for x in range(len(delta)):\n",
    "        if (np.isnan(delta[x])):\n",
    "            businfo = VT(\"T\", rowT, numT)\n",
    "            VT_jacobi.append(businfo)\n",
    "            numT += 1\n",
    "        rowT += 1    \n",
    "\n",
    "    for x in range(len(V)):    \n",
    "        if (np.isnan(V[x])):\n",
    "            businfo = VT(\"V\", rowV, numV)\n",
    "            VT_jacobi.append(businfo)\n",
    "            numV += 1\n",
    "        rowV += 1\n",
    "\n",
    "\n",
    "    return VT_jacobi\n",
    "\n",
    "jacobian(P,Q, V, delta)\n",
    "\n",
    "a = jacobian(P,Q, V, delta)\n",
    "\n",
    "\n",
    "print(a[0].Bus_type)\n",
    "\n",
    "\n",
    "\n",
    "        \n",
    "    "
   ]
  },
  {
   "cell_type": "code",
   "execution_count": 158,
   "metadata": {},
   "outputs": [
    {
     "name": "stdout",
     "output_type": "stream",
     "text": [
      "OK\n"
     ]
    }
   ],
   "source": [
    "a = np.nan\n",
    "\n",
    "if np.isnan(a):\n",
    "    print('OK')"
   ]
  },
  {
   "cell_type": "code",
   "execution_count": null,
   "metadata": {},
   "outputs": [],
   "source": []
  }
 ],
 "metadata": {
  "kernelspec": {
   "display_name": "Python 3.8.13 ('ADA')",
   "language": "python",
   "name": "python3"
  },
  "language_info": {
   "codemirror_mode": {
    "name": "ipython",
    "version": 3
   },
   "file_extension": ".py",
   "mimetype": "text/x-python",
   "name": "python",
   "nbconvert_exporter": "python",
   "pygments_lexer": "ipython3",
   "version": "3.8.13"
  },
  "orig_nbformat": 4,
  "vscode": {
   "interpreter": {
    "hash": "5c42c202f02bd88f630c08504a2a70f76c65184e2d4d0e2e5410e2500b78b318"
   }
  }
 },
 "nbformat": 4,
 "nbformat_minor": 2
}
